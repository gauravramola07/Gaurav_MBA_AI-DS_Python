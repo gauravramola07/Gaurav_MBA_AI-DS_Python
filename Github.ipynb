{
 "cells": [
  {
   "cell_type": "raw",
   "id": "757abd50-5ee5-41ae-804d-38c015a2a0e5",
   "metadata": {},
   "source": [
    "Github"
   ]
  },
  {
   "cell_type": "raw",
   "id": "bd0395c9-953d-4f4e-88b8-b9514e633a1c",
   "metadata": {},
   "source": [
    "Write a python program to print hello world \n",
    "Write a python program to input 2 numbers nad perform all basic operations\n",
    "Write a python program to check wheather number is even or odd\n",
    "Write a python program to check wheather a number is divisible by 3 or not if it is divisibe also check is it also divisble by 5\n",
    "Write a python program to create a basic ATM program that allows user to check their balance,deposit money withdraw money insure that they dont withdraw more than they have\n",
    "Write a python program to print all even number from 1 to 100\n",
    "Write a python program to print the table of any number given by the user\n",
    "Write a python program to print fibonacci series\n",
    "Write a python program to input the number wheatther it is palendrom or not\n",
    "Write a python program to input the length of a list and create a list dynamically hence search from the list using linear search\n",
    "Write a python program to create a dictionary for every students data data may include the name,rollno,and the course id hence create an input for the roll no and output the course id \n",
    "Write a python program that displays a menu with item prices, lets the user select the items to add their order and shows the total bill \n",
    "Write a python program to create a basic Calculator \n",
    "Write a python program to print the pattern\n",
    "********\n",
    "********\n",
    "********\n",
    "********\n",
    "********\n",
    "and \n",
    "*\n",
    "**\n",
    "***\n",
    "****\n",
    "*****\n",
    "Write a python program to swap the no \n",
    "-using third variable\n",
    "-without using third variable\n",
    "-in single line \n",
    "Write a python program to crate a function tha print the sum of two numbers\n",
    "Write a python program to crate a function to check even and odd\n",
    "Write a python program to create a function that outputs factorial of a number \n",
    "Write a python program to create a function that inputs any number of parameters and outputs first sum second product and third average\n"
   ]
  },
  {
   "cell_type": "code",
   "execution_count": 2,
   "id": "767b2cd9-1967-49bd-b73e-22bf35319477",
   "metadata": {},
   "outputs": [
    {
     "name": "stdout",
     "output_type": "stream",
     "text": [
      "Hello World!!!\n"
     ]
    }
   ],
   "source": [
    "#Write a python program to print hello world \n",
    "\n",
    "print(\"Hello World!!!\")"
   ]
  },
  {
   "cell_type": "code",
   "execution_count": 4,
   "id": "b1de77ec-89cd-40f5-8630-bfe29c9db79b",
   "metadata": {},
   "outputs": [
    {
     "name": "stdin",
     "output_type": "stream",
     "text": [
      "Enter First Number : 5\n",
      "Enter Second Number : 9\n"
     ]
    },
    {
     "name": "stdout",
     "output_type": "stream",
     "text": [
      "Addition of 5 and 9 is 14.\n",
      "Subtraction of 5 and 9 is -4.\n",
      "Multiplication of 5 and 9 is 45.\n",
      "Division of 5 and 9 is 0.5555555555555556.\n"
     ]
    }
   ],
   "source": [
    "#Write a python program to input 2 numbers nad perform all basic operations\n",
    "\n",
    "a = int(input(\"Enter First Number :\"))\n",
    "b = int(input(\"Enter Second Number :\"))\n",
    "print(f\"Addition of {a} and {b} is {a+b}.\")\n",
    "print(f\"Subtraction of {a} and {b} is {a-b}.\")\n",
    "print(f\"Multiplication of {a} and {b} is {a*b}.\")\n",
    "print(f\"Division of {a} and {b} is {a/b}.\")"
   ]
  },
  {
   "cell_type": "code",
   "execution_count": 5,
   "id": "1cce13dd-a70a-4f7b-b06e-0d8edf82dd6e",
   "metadata": {},
   "outputs": [
    {
     "name": "stdin",
     "output_type": "stream",
     "text": [
      "Enter a number:  5\n"
     ]
    },
    {
     "name": "stdout",
     "output_type": "stream",
     "text": [
      "5 is Odd\n"
     ]
    }
   ],
   "source": [
    "#Write a python program to check wheather number is even or odd\n",
    "number = int(input(\"Enter a number: \"))\n",
    "\n",
    "if number % 2 == 0:\n",
    "    print(f\"{number} is Even\")\n",
    "else:\n",
    "    print(f\"{number} is Odd\")"
   ]
  },
  {
   "cell_type": "code",
   "execution_count": 6,
   "id": "a59cbd49-a641-453d-b4df-c354d9ee2c3a",
   "metadata": {},
   "outputs": [
    {
     "name": "stdin",
     "output_type": "stream",
     "text": [
      "Enter a number:  8\n"
     ]
    },
    {
     "name": "stdout",
     "output_type": "stream",
     "text": [
      "8 is not divisible by 3\n"
     ]
    }
   ],
   "source": [
    "#Write a python program to check wheather a number is divisible by 3 or not if it is divisibe also check is it also divisble by 5\n",
    "\n",
    "number = int(input(\"Enter a number: \"))\n",
    "\n",
    "if number % 3 == 0:\n",
    "    print(f\"{number} is divisible by 3\")\n",
    "    if number % 5 == 0:\n",
    "        print(f\"{number} is also divisible by 5\")\n",
    "    else:\n",
    "        print(f\"{number} is not divisible by 5\")\n",
    "else:\n",
    "    print(f\"{number} is not divisible by 3\")"
   ]
  },
  {
   "cell_type": "code",
   "execution_count": 7,
   "id": "508b0b79-7bfb-4887-8c15-4dc2c2303e8c",
   "metadata": {},
   "outputs": [
    {
     "name": "stdout",
     "output_type": "stream",
     "text": [
      "\n",
      "ATM Menu:\n",
      "1. Check Balance\n",
      "2. Deposit Money\n",
      "3. Withdraw Money\n",
      "4. Exit\n"
     ]
    },
    {
     "name": "stdin",
     "output_type": "stream",
     "text": [
      "Choose an option:  4\n"
     ]
    },
    {
     "name": "stdout",
     "output_type": "stream",
     "text": [
      "Thank you for using the ATM. Goodbye!\n"
     ]
    }
   ],
   "source": [
    "#Write a python program to create a basic ATM program that allows user to check their balance,deposit money withdraw money insure that they dont withdraw more than they have\n",
    "# ATM Simulation Program\n",
    "\n",
    "accounts = {\n",
    "    '1234567890': {'pin': '1234', 'balance': 1000},\n",
    "    '0987654321': {'pin': '4321', 'balance': 500}\n",
    "}\n",
    "\n",
    "while True:\n",
    "    print(\"\\nATM Menu:\")\n",
    "    print(\"1. Check Balance\")\n",
    "    print(\"2. Deposit Money\")\n",
    "    print(\"3. Withdraw Money\")\n",
    "    print(\"4. Exit\")\n",
    "\n",
    "    choice = input(\"Choose an option: \")\n",
    "\n",
    "    if choice == '1':\n",
    "        card_number = input(\"Enter your card number: \")\n",
    "        if card_number in accounts:\n",
    "            pin = input(\"Enter your PIN: \")\n",
    "            if accounts[card_number]['pin'] == pin:\n",
    "                print(f\"Your balance is: {accounts[card_number]['balance']}\")\n",
    "            else:\n",
    "                print(\"Incorrect PIN.\")\n",
    "        else:\n",
    "            print(\"Invalid card number.\")\n",
    "\n",
    "    elif choice == '2':\n",
    "        card_number = input(\"Enter your card number: \")\n",
    "        if card_number in accounts:\n",
    "            pin = input(\"Enter your PIN: \")\n",
    "            if accounts[card_number]['pin'] == pin:\n",
    "                amount = float(input(\"Enter amount to deposit: \"))\n",
    "                accounts[card_number]['balance'] += amount\n",
    "                print(f\"Deposited {amount}. New balance: {accounts[card_number]['balance']}\")\n",
    "            else:\n",
    "                print(\"Incorrect PIN.\")\n",
    "        else:\n",
    "            print(\"Invalid card number.\")\n",
    "\n",
    "    elif choice == '3':\n",
    "        card_number = input(\"Enter your card number: \")\n",
    "        if card_number in accounts:\n",
    "            pin = input(\"Enter your PIN: \")\n",
    "            if accounts[card_number]['pin'] == pin:\n",
    "                amount = float(input(\"Enter amount to withdraw: \"))\n",
    "                if accounts[card_number]['balance'] >= amount:\n",
    "                    accounts[card_number]['balance'] -= amount\n",
    "                    print(f\"Withdrew {amount}. New balance: {accounts[card_number]['balance']}\")\n",
    "                else:\n",
    "                    print(\"Insufficient funds.\")\n",
    "            else:\n",
    "                print(\"Incorrect PIN.\")\n",
    "        else:\n",
    "            print(\"Invalid card number.\")\n",
    "\n",
    "    elif choice == '4':\n",
    "        print(\"Thank you for using the ATM. Goodbye!\")\n",
    "        break\n",
    "\n",
    "    else:\n",
    "        print(\"Invalid choice. Please try again.\")"
   ]
  },
  {
   "cell_type": "code",
   "execution_count": 9,
   "id": "f055e61c-e302-4b49-b167-6180065a3501",
   "metadata": {},
   "outputs": [
    {
     "name": "stdout",
     "output_type": "stream",
     "text": [
      "2\n",
      "4\n",
      "6\n",
      "8\n",
      "10\n",
      "12\n",
      "14\n",
      "16\n",
      "18\n",
      "20\n",
      "22\n",
      "24\n",
      "26\n",
      "28\n",
      "30\n",
      "32\n",
      "34\n",
      "36\n",
      "38\n",
      "40\n",
      "42\n",
      "44\n",
      "46\n",
      "48\n",
      "50\n",
      "52\n",
      "54\n",
      "56\n",
      "58\n",
      "60\n",
      "62\n",
      "64\n",
      "66\n",
      "68\n",
      "70\n",
      "72\n",
      "74\n",
      "76\n",
      "78\n",
      "80\n",
      "82\n",
      "84\n",
      "86\n",
      "88\n",
      "90\n",
      "92\n",
      "94\n",
      "96\n",
      "98\n",
      "100\n"
     ]
    }
   ],
   "source": [
    "#Write a python program to print all even number from 1 to 100\n",
    "\n",
    "for number in range(1, 101):\n",
    "    if number % 2 == 0:\n",
    "        print(number)"
   ]
  },
  {
   "cell_type": "code",
   "execution_count": 10,
   "id": "fc4bb7d9-6623-4612-ac29-9253c2512217",
   "metadata": {},
   "outputs": [
    {
     "name": "stdin",
     "output_type": "stream",
     "text": [
      "Enter a number:  8\n"
     ]
    },
    {
     "name": "stdout",
     "output_type": "stream",
     "text": [
      "8 x 1 = 8\n",
      "8 x 2 = 16\n",
      "8 x 3 = 24\n",
      "8 x 4 = 32\n",
      "8 x 5 = 40\n",
      "8 x 6 = 48\n",
      "8 x 7 = 56\n",
      "8 x 8 = 64\n",
      "8 x 9 = 72\n",
      "8 x 10 = 80\n"
     ]
    }
   ],
   "source": [
    "#Write a python program to print the table of any number given by the user\n",
    "# Get the number from the user\n",
    "number = int(input(\"Enter a number: \"))\n",
    "\n",
    "for i in range(1, 11):\n",
    "    print(f\"{number} x {i} = {number * i}\")"
   ]
  },
  {
   "cell_type": "code",
   "execution_count": 11,
   "id": "8609ddcd-c141-4346-9e64-8bdf661fc9c0",
   "metadata": {},
   "outputs": [
    {
     "name": "stdout",
     "output_type": "stream",
     "text": [
      "0\n",
      "1\n",
      "1\n",
      "2\n",
      "3\n",
      "5\n",
      "8\n",
      "13\n",
      "21\n",
      "34\n",
      "55\n",
      "89\n"
     ]
    }
   ],
   "source": [
    "#Write a python program to print fibonacci series\n",
    "a=0\n",
    "b=1\n",
    "\n",
    "n=100\n",
    "while a<=n:\n",
    "    print(a)\n",
    "    c=a\n",
    "    a=b\n",
    "    b=a+c\n"
   ]
  },
  {
   "cell_type": "code",
   "execution_count": null,
   "id": "10345b4e-5924-46d3-907d-63e943cbd4af",
   "metadata": {},
   "outputs": [],
   "source": [
    "#Write a python program to input the number wheatther it is palendrom or not\n",
    "\n",
    "number = input(\"Enter a number: \")\n",
    "\n",
    "if number == number[::-1]:\n",
    "    print(f\"{number} is a palindrome.\")\n",
    "else:\n",
    "    print(f\"{number} is not a palindrome.\")"
   ]
  },
  {
   "cell_type": "code",
   "execution_count": 1,
   "id": "c6b9c688-6a30-4d6b-8a5b-5a4b5f6a2f2e",
   "metadata": {},
   "outputs": [
    {
     "name": "stdin",
     "output_type": "stream",
     "text": [
      "Enter the length of the list:  5\n",
      "Enter element 1 of 5:  1\n",
      "Enter element 2 of 5:  5\n",
      "Enter element 3 of 5:  96\n",
      "Enter element 4 of 5:  64\n",
      "Enter element 5 of 5:  5\n",
      "Enter the element to search for:  5\n"
     ]
    },
    {
     "name": "stdout",
     "output_type": "stream",
     "text": [
      "Element '5' found at index 1.\n"
     ]
    }
   ],
   "source": [
    "#Write a python program to input the length of a list and create a list dynamically hence search from the list using linear search\n",
    "\n",
    "def create_list(length):\n",
    "    \n",
    "    new_list = []\n",
    "   \n",
    "    for i in range(length):\n",
    "        element = input(f\"Enter element {i+1} of {length}: \")\n",
    "        new_list.append(element)\n",
    "    return new_list\n",
    "\n",
    "def linear_search(search_list, target):\n",
    "    \n",
    "    for index, element in enumerate(search_list):\n",
    "        if element == target:\n",
    "            return index  \n",
    "    return -1  \n",
    "\n",
    "\n",
    "if __name__ == \"__main__\":\n",
    "    list_length = int(input(\"Enter the length of the list: \"))\n",
    "    my_list = create_list(list_length)\n",
    "    search_target = input(\"Enter the element to search for: \")\n",
    "    result = linear_search(my_list, search_target)\n",
    "    \n",
    "    if result != -1:\n",
    "        print(f\"Element '{search_target}' found at index {result}.\")\n",
    "    else:\n",
    "        print(f\"Element '{search_target}' not found in the list.\")\n"
   ]
  },
  {
   "cell_type": "code",
   "execution_count": 2,
   "id": "f00e35da-737a-4197-be13-7ebc03aac781",
   "metadata": {},
   "outputs": [
    {
     "name": "stdin",
     "output_type": "stream",
     "text": [
      "Enter the roll number:  1001\n"
     ]
    },
    {
     "name": "stdout",
     "output_type": "stream",
     "text": [
      "Course ID: CS101\n"
     ]
    }
   ],
   "source": [
    "#Write a python program to create a dictionary for every students data data may include the name,rollno,and the course id hence create an input for the roll no and output the course id \n",
    "\n",
    "students = {\n",
    "    '1001': {'name': 'Gaurav', 'rollno': '1001', 'course_id': 'CS101'},\n",
    "    '1002': {'name': 'Ayush', 'rollno': '1002', 'course_id': 'ENG202'},\n",
    "    '1003': {'name': 'Rakshita', 'rollno': '1003', 'course_id': 'MTH303'},\n",
    "}\n",
    "\n",
    "\n",
    "def get_course_id(roll_no):\n",
    "    student = students.get(roll_no)\n",
    "    if student:\n",
    "        return student['course_id']\n",
    "    else:\n",
    "        return \"No student found with that roll number.\"\n",
    "\n",
    "roll_no_input = input(\"Enter the roll number: \")\n",
    "\n",
    "\n",
    "print(\"Course ID:\", get_course_id(roll_no_input))\n"
   ]
  },
  {
   "cell_type": "code",
   "execution_count": 5,
   "id": "f63c83db-c8f0-45c4-9e2a-369d83318307",
   "metadata": {},
   "outputs": [
    {
     "name": "stdout",
     "output_type": "stream",
     "text": [
      "Menu:\n",
      "Pasta: Rs100\n",
      "Pizza: Rs80\n",
      "Burger: Rs50\n",
      "Sandwich: Rs45\n",
      "Coke: Rs20\n"
     ]
    },
    {
     "name": "stdin",
     "output_type": "stream",
     "text": [
      "Enter an item to add to your order (type 'done' to finish):  Pasta\n",
      "Enter the quantity of Pasta:  5\n",
      "Enter an item to add to your order (type 'done' to finish):  Coke\n",
      "Enter the quantity of Coke:  9\n",
      "Enter an item to add to your order (type 'done' to finish):  finish\n"
     ]
    },
    {
     "name": "stdout",
     "output_type": "stream",
     "text": [
      "Item not found in the menu. Please try again.\n"
     ]
    },
    {
     "name": "stdin",
     "output_type": "stream",
     "text": [
      "Enter an item to add to your order (type 'done' to finish):  done\n"
     ]
    },
    {
     "name": "stdout",
     "output_type": "stream",
     "text": [
      "\n",
      "Your order:\n",
      "Pasta x 5 = Rs500\n",
      "Coke x 9 = Rs180\n",
      "\n",
      "Total bill: Rs680\n"
     ]
    }
   ],
   "source": [
    "#Write a python program that displays a menu with item prices, lets the user select the items to add their order and shows the total bill \n",
    "def display_menu(menu):\n",
    "    print(\"Menu:\")\n",
    "    for item, price in menu.items():\n",
    "        print(f\"{item}: Rs{price}\")\n",
    "\n",
    "def get_user_order(menu):\n",
    "    order = {}\n",
    "    while True:\n",
    "        item = input(\"Enter an item to add to your order (type 'done' to finish): \")\n",
    "        if item.lower() == 'done':\n",
    "            break\n",
    "        elif item in menu:\n",
    "            quantity = int(input(f\"Enter the quantity of {item}: \"))\n",
    "            if item in order:\n",
    "                order[item] += quantity\n",
    "            else:\n",
    "                order[item] = quantity\n",
    "        else:\n",
    "            print(\"Item not found in the menu. Please try again.\")\n",
    "    return order\n",
    "\n",
    "def calculate_total(order, menu):\n",
    "    total = 0\n",
    "    print(\"\\nYour order:\")\n",
    "    for item, quantity in order.items():\n",
    "        print(f\"{item} x {quantity} = Rs{menu[item] * quantity}\")\n",
    "        total += menu[item] * quantity\n",
    "    return total\n",
    "\n",
    "def main():\n",
    "    menu = {\n",
    "        'Pasta': 100,\n",
    "        'Pizza': 80,\n",
    "        'Burger': 50,\n",
    "        'Sandwich': 45,\n",
    "        'Coke': 20\n",
    "    }\n",
    "    \n",
    "    display_menu(menu)\n",
    "    order = get_user_order(menu)\n",
    "    total = calculate_total(order, menu)\n",
    "    print(f\"\\nTotal bill: Rs{total}\")\n",
    "\n",
    "if __name__ == \"__main__\":\n",
    "    main()\n"
   ]
  },
  {
   "cell_type": "code",
   "execution_count": 7,
   "id": "c06d1630-6b81-47aa-8350-6f5d6468bf75",
   "metadata": {},
   "outputs": [
    {
     "name": "stdout",
     "output_type": "stream",
     "text": [
      "\n",
      "\n",
      "CALCULATOR\n"
     ]
    },
    {
     "name": "stdin",
     "output_type": "stream",
     "text": [
      " 1.Add\n",
      " 2.Subtract\n",
      " 3.Multiply\n",
      " 4.Divide\n",
      " Enter 0 to exit 0\n"
     ]
    }
   ],
   "source": [
    "#Write a python program to create a basic Calculator\n",
    "#program to create functions for every mathematical operation and create calculator using the same\n",
    "\n",
    "def add(x,y):\n",
    "    return x+y\n",
    "\n",
    "def substract(x,y):\n",
    "    return x-y\n",
    "\n",
    "def multiple(x,y):\n",
    "    return x*y\n",
    "\n",
    "def div(x,y):\n",
    "    return x/y\n",
    "\n",
    "while True:\n",
    "    print(\"\\n\\nCALCULATOR\")\n",
    "    usr_inp=int(input(\" 1.Add\\n 2.Subtract\\n 3.Multiply\\n 4.Divide\\n Enter 0 to exit\"))\n",
    "    if usr_inp == 1:\n",
    "        x=int(input(\"Enter 1st number :\"))\n",
    "        y=int(input(\"Enter 2nd number :\"))\n",
    "        print(f\"The Addition of {x} and {y} is {add(x,y)}\")\n",
    "    \n",
    "    elif usr_inp == 2:\n",
    "        x=int(input(\"Enter 1st number :\"))\n",
    "        y=int(input(\"Enter 2nd number :\"))\n",
    "        print(f\"The Subtraction of {x} and {y} is {substract(x,y)}\")\n",
    "    \n",
    "    elif usr_inp == 3:\n",
    "        x=int(input(\"Enter 1st number :\"))\n",
    "        y=int(input(\"Enter 2nd number :\"))\n",
    "        print(f\"The Multiplication of {x} and {y} is {multiple(x,y)}\")\n",
    "    \n",
    "    elif usr_inp == 4:\n",
    "        x=int(input(\"Enter 1st number :\"))\n",
    "        y=int(input(\"Enter 2nd number :\"))\n",
    "        print(f\"The Division of {x} and {y} is {div(x,y)}\")\n",
    "\n",
    "    elif usr_inp == 0:\n",
    "        break\n",
    "    \n",
    "    else:\n",
    "        print(\"Invalid Option Selected\")\n"
   ]
  },
  {
   "cell_type": "code",
   "execution_count": 8,
   "id": "de0b8e5b-f244-40dd-a26f-883bb3fcfc2e",
   "metadata": {},
   "outputs": [
    {
     "name": "stdout",
     "output_type": "stream",
     "text": [
      "********\n",
      "********\n",
      "********\n",
      "********\n",
      "********\n"
     ]
    }
   ],
   "source": [
    "#Write a python program to print the pattern\n",
    "#********\n",
    "#********\n",
    "#********\n",
    "#********\n",
    "#********\n",
    "\n",
    "rows = 5\n",
    "columns = 8\n",
    "for i in range(rows):\n",
    "\n",
    "    print('*' * columns)\n"
   ]
  },
  {
   "cell_type": "code",
   "execution_count": 10,
   "id": "46509df6-0510-48ed-8ff1-eacbac8b48e6",
   "metadata": {},
   "outputs": [
    {
     "name": "stdout",
     "output_type": "stream",
     "text": [
      "*\n",
      "**\n",
      "***\n",
      "****\n",
      "*****\n"
     ]
    }
   ],
   "source": [
    "#Write a python program to print the pattern\n",
    "#*\n",
    "#**\n",
    "#***\n",
    "#****\n",
    "#*****\n",
    "\n",
    "rows = 5\n",
    "for i in range(1, rows + 1):\n",
    "    print('*' * i)\n"
   ]
  },
  {
   "cell_type": "code",
   "execution_count": 12,
   "id": "7d2ceb82-d94f-408d-8def-2ad6d12fddc5",
   "metadata": {},
   "outputs": [
    {
     "name": "stdin",
     "output_type": "stream",
     "text": [
      "Enter 1st Number : 5\n",
      "Enter 2nd Number : 9\n"
     ]
    },
    {
     "name": "stdout",
     "output_type": "stream",
     "text": [
      "After swapping with third variable: a = 9 b = 5\n",
      "After swapping without third variable: a = 5 b = 9\n",
      "After swapping in a single line: a = 9 b = 5\n"
     ]
    }
   ],
   "source": [
    "#-using third variable\n",
    "#-without using third variable\n",
    "#-in single line\n",
    "\n",
    "\n",
    "def swap_with_third_variable(a, b):\n",
    "    temp = a\n",
    "    a = b\n",
    "    b = temp\n",
    "    return a, b\n",
    "\n",
    "def swap_without_third_variable(a, b):\n",
    "    a = a + b\n",
    "    b = a - b\n",
    "    a = a - b\n",
    "    return a, b\n",
    "\n",
    "def swap_in_single_line(a, b):\n",
    "    a, b = b, a\n",
    "    return a, b\n",
    "\n",
    "a = int(input(\"Enter 1st Number :\"))\n",
    "b = int(input(\"Enter 2nd Number :\"))\n",
    "\n",
    "a, b = swap_with_third_variable(a, b)\n",
    "print(\"After swapping with third variable: a =\", a, \"b =\", b)\n",
    "\n",
    "a, b = swap_without_third_variable(a, b)\n",
    "print(\"After swapping without third variable: a =\", a, \"b =\", b)\n",
    "\n",
    "a, b = swap_in_single_line(a, b)\n",
    "print(\"After swapping in a single line: a =\", a, \"b =\", b)\n"
   ]
  },
  {
   "cell_type": "code",
   "execution_count": 13,
   "id": "5482744b-cec8-487f-a97d-322900771046",
   "metadata": {},
   "outputs": [
    {
     "name": "stdin",
     "output_type": "stream",
     "text": [
      "Enter 1st Number : 8\n",
      "Enter 2nd Number : 9\n"
     ]
    },
    {
     "name": "stdout",
     "output_type": "stream",
     "text": [
      "Sum of 8 and 9 is 17\n"
     ]
    }
   ],
   "source": [
    "#Write a python program to crate a function tha print the sum of two numbers\n",
    "def sumoftwo(a,b):\n",
    "    return a+b\n",
    "\n",
    "a = int(input(\"Enter 1st Number :\"))\n",
    "b = int(input(\"Enter 2nd Number :\"))\n",
    "print(f\"Sum of {a} and {b} is {sumoftwo(a,b)}\")"
   ]
  },
  {
   "cell_type": "code",
   "execution_count": 14,
   "id": "967cdb95-05aa-4b79-94da-0cfac429821f",
   "metadata": {},
   "outputs": [
    {
     "name": "stdin",
     "output_type": "stream",
     "text": [
      "Enter a number:  9\n"
     ]
    },
    {
     "name": "stdout",
     "output_type": "stream",
     "text": [
      "9 is Odd\n"
     ]
    }
   ],
   "source": [
    "#Write a python program to crate a function to check even and odd\n",
    "def check_even_odd(number):\n",
    "    if number % 2 == 0:\n",
    "        print(f\"{number} is Even\")\n",
    "    else:\n",
    "        print(f\"{number} is Odd\")\n",
    "\n",
    "num = int(input(\"Enter a number: \"))\n",
    "check_even_odd(num)\n"
   ]
  },
  {
   "cell_type": "code",
   "execution_count": 15,
   "id": "8b3cc8e2-a010-4688-9b47-8afe70171ac3",
   "metadata": {},
   "outputs": [
    {
     "name": "stdin",
     "output_type": "stream",
     "text": [
      "Enter a number to find the factorial:  9\n"
     ]
    },
    {
     "name": "stdout",
     "output_type": "stream",
     "text": [
      "The factorial of 9 is 362880\n"
     ]
    }
   ],
   "source": [
    "#Write a python program to create a function that outputs factorial of a number\n",
    "\n",
    "def factorial(n):\n",
    "    if n == 0:\n",
    "        return 1\n",
    "    else:\n",
    "        return n * factorial(n-1)\n",
    "\n",
    "number = int(input(\"Enter a number to find the factorial: \"))\n",
    "result = factorial(number)\n",
    "print(f\"The factorial of {number} is {result}\")\n"
   ]
  },
  {
   "cell_type": "code",
   "execution_count": 16,
   "id": "cf13880d-c086-475e-8372-b4a6e5bccfbe",
   "metadata": {},
   "outputs": [
    {
     "name": "stdout",
     "output_type": "stream",
     "text": [
      "Sum: 15\n",
      "Product: 120\n",
      "Average: 3.0\n"
     ]
    }
   ],
   "source": [
    "#Write a python program to create a function that inputs any number of parameters and outputs first sum second product and third average\n",
    "\n",
    "def calculate_metrics(*args):\n",
    "    if not args:\n",
    "        return \"No numbers provided\"\n",
    "    \n",
    "    total_sum = sum(args)\n",
    "    total_product = 1\n",
    "    for num in args:\n",
    "        total_product *= num\n",
    "    \n",
    "    average = total_sum / len(args)\n",
    "    \n",
    "    return total_sum, total_product, average\n",
    "\n",
    "numbers = (1, 2, 3, 4, 5)  \n",
    "result = calculate_metrics(*numbers)\n",
    "print(\"Sum:\", result[0])\n",
    "print(\"Product:\", result[1])\n",
    "print(\"Average:\", result[2])\n"
   ]
  },
  {
   "cell_type": "code",
   "execution_count": null,
   "id": "781960fc-00ae-435b-8dcb-5d9628cbaca0",
   "metadata": {},
   "outputs": [],
   "source": []
  }
 ],
 "metadata": {
  "kernelspec": {
   "display_name": "Python 3 (ipykernel)",
   "language": "python",
   "name": "python3"
  },
  "language_info": {
   "codemirror_mode": {
    "name": "ipython",
    "version": 3
   },
   "file_extension": ".py",
   "mimetype": "text/x-python",
   "name": "python",
   "nbconvert_exporter": "python",
   "pygments_lexer": "ipython3",
   "version": "3.12.4"
  }
 },
 "nbformat": 4,
 "nbformat_minor": 5
}
